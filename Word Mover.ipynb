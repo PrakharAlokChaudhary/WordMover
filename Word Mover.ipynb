{
 "cells": [
  {
   "cell_type": "markdown",
   "metadata": {},
   "source": [
    "# Word Mover Implementation"
   ]
  },
  {
   "cell_type": "code",
   "execution_count": 1,
   "metadata": {
    "_cell_guid": "b1076dfc-b9ad-4769-8c92-a6c4dae69d19",
    "_kg_hide-input": true,
    "_uuid": "8f2839f25d086af736a60e9eeb907d3b93b6e0e5"
   },
   "outputs": [
    {
     "name": "stdout",
     "output_type": "stream",
     "text": [
      "The csv files provided are:\n",
      "\n",
      "['emails.csv', 'questions.csv', 'professionals.csv', 'comments.csv', 'tag_users.csv', 'group_memberships.csv', 'tags.csv', 'answer_scores.csv', 'students.csv', 'groups.csv', 'tag_questions.csv', 'question_scores.csv', 'matches.csv', 'answers.csv', 'school_memberships.csv']\n"
     ]
    }
   ],
   "source": [
    "import numpy as np # linear algebra\n",
    "import pandas as pd # data processing, CSV file I/O (e.g. pd.read_csv)\n",
    "import os\n",
    "import warnings\n",
    "from nltk import word_tokenize\n",
    "from gensim.models import KeyedVectors\n",
    "from nltk.corpus import stopwords\n",
    "from gensim.models import Word2Vec\n",
    "from gensim.similarities import WmdSimilarity\n",
    "from time import time\n",
    "from tqdm import tqdm\n",
    "stop_words = stopwords.words('english')\n",
    "warnings.filterwarnings('ignore')\n",
    "root_path = '../input/data-science-for-good-careervillage/'\n",
    "print('The csv files provided are:\\n')\n",
    "print(os.listdir(root_path))\n",
    "model = KeyedVectors.load_word2vec_format('../input/word2vec-google/GoogleNews-vectors-negative300.bin', binary=True)"
   ]
  },
  {
   "cell_type": "code",
   "execution_count": 2,
   "metadata": {
    "_kg_hide-input": true
   },
   "outputs": [],
   "source": [
    "df_emails = pd.read_csv(root_path + 'emails.csv')\n",
    "df_questions = pd.read_csv(root_path + 'questions.csv')\n",
    "df_professionals = pd.read_csv(root_path + 'professionals.csv')\n",
    "df_comments = pd.read_csv(root_path + 'comments.csv')\n",
    "df_tag_users = pd.read_csv(root_path + 'tag_users.csv')\n",
    "df_group_memberships = pd.read_csv(root_path + 'group_memberships.csv')\n",
    "df_tags = pd.read_csv(root_path + 'tags.csv')\n",
    "df_answer_scores = pd.read_csv(root_path + 'answer_scores.csv')\n",
    "df_students = pd.read_csv(root_path + 'students.csv')\n",
    "df_groups = pd.read_csv(root_path + 'groups.csv')\n",
    "df_tag_questions = pd.read_csv(root_path + 'tag_questions.csv')\n",
    "df_question_scores = pd.read_csv(root_path + 'question_scores.csv')\n",
    "df_matches = pd.read_csv(root_path + 'matches.csv')\n",
    "df_answers = pd.read_csv(root_path + 'answers.csv')\n",
    "df_school_memberships = pd.read_csv(root_path + 'school_memberships.csv')"
   ]
  },
  {
   "cell_type": "markdown",
   "metadata": {},
   "source": [
    "## Preprocessing and computing WMD Similarity"
   ]
  },
  {
   "cell_type": "code",
   "execution_count": 3,
   "metadata": {
    "_cell_guid": "79c7e3d0-c299-4dcb-8224-4455121ee9b0",
    "_uuid": "d629ff2d2480ee46fbb7e2d37f6b5fab8052498a"
   },
   "outputs": [],
   "source": [
    "def preprocess(doc):\n",
    "    doc = doc.lower()  # Lower the text.\n",
    "    doc = word_tokenize(doc)  # Split into words.\n",
    "    doc = [w for w in doc if not w in stop_words]  # Remove stopwords.\n",
    "    doc = [w for w in doc if w.isalpha()]  # Remove numbers and punctuation.\n",
    "    return(doc)"
   ]
  },
  {
   "cell_type": "code",
   "execution_count": 4,
   "metadata": {},
   "outputs": [
    {
     "name": "stderr",
     "output_type": "stream",
     "text": [
      "100%|██████████| 23931/23931 [00:04<00:00, 5115.14it/s]\n"
     ]
    }
   ],
   "source": [
    "clean_corpus = [] \n",
    "documents = df_questions['questions_title'].tolist()  #wmd_corpus, with no pre-processing (so we can see the original documents).\n",
    "for text in tqdm(df_questions['questions_title']):\n",
    "    text = preprocess(text)   \n",
    "    clean_corpus.append(text)        "
   ]
  },
  {
   "cell_type": "code",
   "execution_count": 5,
   "metadata": {},
   "outputs": [
    {
     "name": "stdout",
     "output_type": "stream",
     "text": [
      "Cell took 7.79 seconds to run.\n"
     ]
    }
   ],
   "source": [
    "start = time()\n",
    "#We won't be training our own Word2Vec model and we'll instead use the pretrained vectors\n",
    "num_best = 10\n",
    "instance = WmdSimilarity(clean_corpus, model, num_best=num_best)  \n",
    "print('Cell took %.2f seconds to run.' % (time() - start))"
   ]
  },
  {
   "cell_type": "markdown",
   "metadata": {},
   "source": [
    "## Recommender System "
   ]
  },
  {
   "cell_type": "markdown",
   "metadata": {},
   "source": [
    "To make recommendations based on a question:\n",
    "\n",
    "- Find questions that are similar to the one under consideration\n",
    "- Find if the similar questions have been answered\n",
    "- If yes, find if the professional is active. Active professional has to have answered a question within the last 1 year\n",
    "- If multiple professionals fit the criteria, rank them based on the proportion of questions they have answered within 24-48 hours [since that is a key metric](https://www.kaggle.com/c/data-science-for-good-careervillage/discussion/84845#latest-496046)"
   ]
  },
  {
   "cell_type": "code",
   "execution_count": 6,
   "metadata": {
    "_kg_hide-input": true
   },
   "outputs": [],
   "source": [
    "#To see the profile of the volunteers and the questions that they have answered\n",
    "df_questions['questions_date_added'] = pd.to_datetime(df_questions['questions_date_added'])\n",
    "df_answers['answers_date_added'] = pd.to_datetime(df_answers['answers_date_added'])\n",
    "df_answers_professionals = pd.merge(df_answers, df_professionals, left_on='answers_author_id', right_on='professionals_id', how='outer')\n",
    "df_questions_answers_professionals = pd.merge(df_questions, df_answers_professionals, left_on='questions_id', right_on='answers_question_id')\n",
    "df_qap_time_taken = df_questions_answers_professionals.groupby(['professionals_id','questions_id']).agg({'questions_date_added':min, 'answers_date_added':min})\n",
    "df_qap_time_taken['less_than_2_days'] = df_qap_time_taken['answers_date_added'] - df_qap_time_taken['questions_date_added'] < '2 days'\n",
    "df_qap_time_taken = df_qap_time_taken.reset_index().groupby('professionals_id', as_index=False).agg({'less_than_2_days':np.mean})\n",
    "last_date = df_questions['questions_date_added'].max() #date of the last question asked on the platform\n",
    "df_ap_grouped = df_answers_professionals.groupby('professionals_id').agg({'answers_date_added':max}).apply(lambda x:\n",
    "                                                                                          (last_date-x).dt.days)\n",
    "df_ap_grouped.rename(columns={'answers_date_added':'days_since_answered'}, inplace=True)\n",
    "active_professionals = df_ap_grouped[df_ap_grouped['days_since_answered']<365].index"
   ]
  },
  {
   "cell_type": "markdown",
   "metadata": {},
   "source": [
    "We'll give the same examples we did in the second notebook"
   ]
  },
  {
   "cell_type": "markdown",
   "metadata": {},
   "source": [
    "### Example Recommendation 1"
   ]
  },
  {
   "cell_type": "code",
   "execution_count": 7,
   "metadata": {},
   "outputs": [
    {
     "name": "stdout",
     "output_type": "stream",
     "text": [
      "Question:\n",
      "Should I declare a minor during undergrad if I want to be a lawyer?\n",
      "\n",
      "sim = 0.6067\n",
      "If i want to be a lawyer, what should i major in once i get into college?\n",
      "\n",
      "sim = 0.5749\n",
      "what is the best college if you want to be a lawyer in Alabama\n",
      "\n",
      "sim = 0.5707\n",
      "How do you decide what type of lawyer you want to become?\n",
      "\n",
      "sim = 0.5665\n",
      "How do I decide what I want to minor in?\n",
      "\n",
      "sim = 0.5664\n",
      "What should I study if I want to become a lawyer?\n"
     ]
    }
   ],
   "source": [
    "sent = 'Should I declare a minor during undergrad if I want to be a lawyer?'\n",
    "topk = 5\n",
    "query = preprocess(sent)\n",
    "sims = instance[query]  #A query is simply a \"look-up\" in the similarity class.\n",
    "#Print the query and the retrieved documents, together with their similarities.\n",
    "print('Question:')\n",
    "print(sent)\n",
    "#We won't consider the first index since that is the question itself\n",
    "for i in range(1,topk+1): \n",
    "    print('\\nsim = %.4f' % sims[i][1])\n",
    "    print(documents[sims[i][0]])"
   ]
  },
  {
   "cell_type": "code",
   "execution_count": 8,
   "metadata": {},
   "outputs": [
    {
     "name": "stdout",
     "output_type": "stream",
     "text": [
      "The recommended professionals ranked by the proportion of questions answered within 48 hours: ['4dc61581ec7b409bbd037e483f53ba0a', 'be5d23056fcb4f1287c823beec5291e1', '209fcd55fefa4fe29ccedcdc26bd5d89', 'e1d39b665987455fbcfbec3fc6df6056', '4c1333590d234f9bb0f4cf0eac4c6efd', '43251a6879ef46dbb1a1b3399ce8229b']\n",
      "The profile of the professionals:\n"
     ]
    },
    {
     "data": {
      "text/html": [
       "<div>\n",
       "<style scoped>\n",
       "    .dataframe tbody tr th:only-of-type {\n",
       "        vertical-align: middle;\n",
       "    }\n",
       "\n",
       "    .dataframe tbody tr th {\n",
       "        vertical-align: top;\n",
       "    }\n",
       "\n",
       "    .dataframe thead th {\n",
       "        text-align: right;\n",
       "    }\n",
       "</style>\n",
       "<table border=\"1\" class=\"dataframe\">\n",
       "  <thead>\n",
       "    <tr style=\"text-align: right;\">\n",
       "      <th></th>\n",
       "      <th>professionals_id</th>\n",
       "      <th>professionals_location</th>\n",
       "      <th>professionals_industry</th>\n",
       "      <th>professionals_headline</th>\n",
       "      <th>professionals_date_joined</th>\n",
       "    </tr>\n",
       "  </thead>\n",
       "  <tbody>\n",
       "    <tr>\n",
       "      <th>3581</th>\n",
       "      <td>be5d23056fcb4f1287c823beec5291e1</td>\n",
       "      <td>San Antonio, Texas</td>\n",
       "      <td>Legal Services</td>\n",
       "      <td>Employment Counselor  | Open Records Specialist</td>\n",
       "      <td>2016-01-21 03:23:22 UTC+0000</td>\n",
       "    </tr>\n",
       "    <tr>\n",
       "      <th>5876</th>\n",
       "      <td>e1d39b665987455fbcfbec3fc6df6056</td>\n",
       "      <td>Greater Philadelphia Area</td>\n",
       "      <td>Professional Training</td>\n",
       "      <td>Industrial-Organizational Psychology &amp; HR Cons...</td>\n",
       "      <td>2016-05-04 18:12:23 UTC+0000</td>\n",
       "    </tr>\n",
       "    <tr>\n",
       "      <th>13603</th>\n",
       "      <td>4c1333590d234f9bb0f4cf0eac4c6efd</td>\n",
       "      <td>United States</td>\n",
       "      <td>Insurance law</td>\n",
       "      <td>Associate General Counsel at American General ...</td>\n",
       "      <td>2017-10-11 14:42:55 UTC+0000</td>\n",
       "    </tr>\n",
       "    <tr>\n",
       "      <th>16582</th>\n",
       "      <td>4dc61581ec7b409bbd037e483f53ba0a</td>\n",
       "      <td>Washington, Washington</td>\n",
       "      <td>NaN</td>\n",
       "      <td>PwC Experienced Associate, Advisory</td>\n",
       "      <td>2018-02-27 20:08:33 UTC+0000</td>\n",
       "    </tr>\n",
       "    <tr>\n",
       "      <th>17841</th>\n",
       "      <td>209fcd55fefa4fe29ccedcdc26bd5d89</td>\n",
       "      <td>Raleigh-Durham, North Carolina Area</td>\n",
       "      <td>Management Consulting</td>\n",
       "      <td>Vice President, Life Sciences at Treximo</td>\n",
       "      <td>2018-04-02 18:26:12 UTC+0000</td>\n",
       "    </tr>\n",
       "    <tr>\n",
       "      <th>25181</th>\n",
       "      <td>43251a6879ef46dbb1a1b3399ce8229b</td>\n",
       "      <td>Atlanta, Georgia</td>\n",
       "      <td>Computer Software</td>\n",
       "      <td>Client Account Director - Enterprise Business</td>\n",
       "      <td>2018-11-13 14:16:26 UTC+0000</td>\n",
       "    </tr>\n",
       "  </tbody>\n",
       "</table>\n",
       "</div>"
      ],
      "text/plain": [
       "                       professionals_id              ...                  professionals_date_joined\n",
       "3581   be5d23056fcb4f1287c823beec5291e1              ...               2016-01-21 03:23:22 UTC+0000\n",
       "5876   e1d39b665987455fbcfbec3fc6df6056              ...               2016-05-04 18:12:23 UTC+0000\n",
       "13603  4c1333590d234f9bb0f4cf0eac4c6efd              ...               2017-10-11 14:42:55 UTC+0000\n",
       "16582  4dc61581ec7b409bbd037e483f53ba0a              ...               2018-02-27 20:08:33 UTC+0000\n",
       "17841  209fcd55fefa4fe29ccedcdc26bd5d89              ...               2018-04-02 18:26:12 UTC+0000\n",
       "25181  43251a6879ef46dbb1a1b3399ce8229b              ...               2018-11-13 14:16:26 UTC+0000\n",
       "\n",
       "[6 rows x 5 columns]"
      ]
     },
     "execution_count": 8,
     "metadata": {},
     "output_type": "execute_result"
    }
   ],
   "source": [
    "idx = [tup[0] for tup in sims][:5]\n",
    "author_id = df_answers[df_answers['answers_question_id'].isin(df_questions.iloc[idx]['questions_id'])]['answers_author_id']\n",
    "active_author_id = author_id[author_id.isin(active_professionals)]\n",
    "df_recommended_pros = df_qap_time_taken[df_qap_time_taken['professionals_id'].isin(active_author_id)].sort_values('less_than_2_days', ascending=False)\n",
    "print('The recommended professionals ranked by the proportion of questions answered within 48 hours:', df_recommended_pros['professionals_id'].tolist())\n",
    "print('The profile of the professionals:')\n",
    "df_professionals[df_professionals['professionals_id'].isin(df_recommended_pros['professionals_id'])]"
   ]
  },
  {
   "cell_type": "markdown",
   "metadata": {},
   "source": [
    "### Example Recommendation 2"
   ]
  },
  {
   "cell_type": "code",
   "execution_count": 9,
   "metadata": {},
   "outputs": [
    {
     "name": "stdout",
     "output_type": "stream",
     "text": [
      "Question:\n",
      "My current plan is to go to a one year film college to get a certificate in screenwriting. Many people have mentioned that you really don't need a film degree to get into film, so a certificate is fine. Is this true?\n",
      "\n",
      "sim = 0.5554\n",
      "I would really like to get into Video production and editing. Many people tell me I don’t need a college degree but I think that’s wrong.  Is college the right answer?\n",
      "\n",
      "sim = 0.5514\n",
      "I would like to get a certificate in the film Making (online)\n",
      "\n",
      "sim = 0.5297\n",
      "Should I get a film degree or find an film internship?\n",
      "\n",
      "sim = 0.5296\n",
      "Do you get residency in the state you go to college in after one year?\n",
      "\n",
      "sim = 0.5285\n",
      "How hard is it to get one of your own projects up and running in the Film industry ?\n"
     ]
    }
   ],
   "source": [
    "sent = 'My current plan is to go to a one year film college to get a certificate in screenwriting. Many people have mentioned that you really don\\'t need a film degree to get into film, so a certificate is fine. Is this true?'\n",
    "topk = 5\n",
    "query = preprocess(sent)\n",
    "sims = instance[query]  #A query is simply a \"look-up\" in the similarity class.\n",
    "#Print the query and the retrieved documents, together with their similarities.\n",
    "print('Question:')\n",
    "print(sent)\n",
    "for i in range(1,topk+1):\n",
    "    print('\\nsim = %.4f' % sims[i][1])\n",
    "    print(documents[sims[i][0]])"
   ]
  },
  {
   "cell_type": "code",
   "execution_count": 10,
   "metadata": {},
   "outputs": [
    {
     "name": "stdout",
     "output_type": "stream",
     "text": [
      "The recommended professionals ranked by the proportion of questions answered within 48 hours: ['bf89b0d1af0f49468ad3e047fe71013f', 'e27c43e8671242e1bfb80829744ee3ad', '9a5aead62c344207b2624dba90985dc5', '460fd56dcb694172bce9ed71f48af804', '7dbe5b68c32b4e308a9a2b191a73f0c7']\n",
      "The profile of the professionals:\n"
     ]
    },
    {
     "data": {
      "text/html": [
       "<div>\n",
       "<style scoped>\n",
       "    .dataframe tbody tr th:only-of-type {\n",
       "        vertical-align: middle;\n",
       "    }\n",
       "\n",
       "    .dataframe tbody tr th {\n",
       "        vertical-align: top;\n",
       "    }\n",
       "\n",
       "    .dataframe thead th {\n",
       "        text-align: right;\n",
       "    }\n",
       "</style>\n",
       "<table border=\"1\" class=\"dataframe\">\n",
       "  <thead>\n",
       "    <tr style=\"text-align: right;\">\n",
       "      <th></th>\n",
       "      <th>professionals_id</th>\n",
       "      <th>professionals_location</th>\n",
       "      <th>professionals_industry</th>\n",
       "      <th>professionals_headline</th>\n",
       "      <th>professionals_date_joined</th>\n",
       "    </tr>\n",
       "  </thead>\n",
       "  <tbody>\n",
       "    <tr>\n",
       "      <th>10284</th>\n",
       "      <td>460fd56dcb694172bce9ed71f48af804</td>\n",
       "      <td>Atlanta, Georgia</td>\n",
       "      <td>Broadcast Media</td>\n",
       "      <td>Video Production Manager at Coca-Cola Studios</td>\n",
       "      <td>2017-04-24 18:53:59 UTC+0000</td>\n",
       "    </tr>\n",
       "    <tr>\n",
       "      <th>17758</th>\n",
       "      <td>7dbe5b68c32b4e308a9a2b191a73f0c7</td>\n",
       "      <td>Los Angeles, California</td>\n",
       "      <td>Entertainment</td>\n",
       "      <td>Director of Photography at Freelance</td>\n",
       "      <td>2018-03-30 17:46:39 UTC+0000</td>\n",
       "    </tr>\n",
       "    <tr>\n",
       "      <th>24392</th>\n",
       "      <td>bf89b0d1af0f49468ad3e047fe71013f</td>\n",
       "      <td>Jefferson, Iowa</td>\n",
       "      <td>NaN</td>\n",
       "      <td>Graduate Programs Assistant</td>\n",
       "      <td>2018-10-19 15:52:03 UTC+0000</td>\n",
       "    </tr>\n",
       "    <tr>\n",
       "      <th>24748</th>\n",
       "      <td>e27c43e8671242e1bfb80829744ee3ad</td>\n",
       "      <td>Chicago, Illinois</td>\n",
       "      <td>Entertainment</td>\n",
       "      <td>Theatre Professional and Consultant</td>\n",
       "      <td>2018-10-30 18:11:23 UTC+0000</td>\n",
       "    </tr>\n",
       "    <tr>\n",
       "      <th>25379</th>\n",
       "      <td>9a5aead62c344207b2624dba90985dc5</td>\n",
       "      <td>Newark, New Jersey</td>\n",
       "      <td>Education</td>\n",
       "      <td>Either fall or grow!</td>\n",
       "      <td>2018-11-15 19:16:05 UTC+0000</td>\n",
       "    </tr>\n",
       "  </tbody>\n",
       "</table>\n",
       "</div>"
      ],
      "text/plain": [
       "                       professionals_id              ...                  professionals_date_joined\n",
       "10284  460fd56dcb694172bce9ed71f48af804              ...               2017-04-24 18:53:59 UTC+0000\n",
       "17758  7dbe5b68c32b4e308a9a2b191a73f0c7              ...               2018-03-30 17:46:39 UTC+0000\n",
       "24392  bf89b0d1af0f49468ad3e047fe71013f              ...               2018-10-19 15:52:03 UTC+0000\n",
       "24748  e27c43e8671242e1bfb80829744ee3ad              ...               2018-10-30 18:11:23 UTC+0000\n",
       "25379  9a5aead62c344207b2624dba90985dc5              ...               2018-11-15 19:16:05 UTC+0000\n",
       "\n",
       "[5 rows x 5 columns]"
      ]
     },
     "execution_count": 10,
     "metadata": {},
     "output_type": "execute_result"
    }
   ],
   "source": [
    "idx = [tup[0] for tup in sims][:5]\n",
    "author_id = df_answers[df_answers['answers_question_id'].isin(df_questions.iloc[idx]['questions_id'])]['answers_author_id']\n",
    "active_author_id = author_id[author_id.isin(active_professionals)]\n",
    "df_recommended_pros = df_qap_time_taken[df_qap_time_taken['professionals_id'].isin(active_author_id)].sort_values('less_than_2_days', ascending=False)\n",
    "print('The recommended professionals ranked by the proportion of questions answered within 48 hours:', df_recommended_pros['professionals_id'].tolist())\n",
    "print('The profile of the professionals:')\n",
    "df_professionals[df_professionals['professionals_id'].isin(df_recommended_pros['professionals_id'])]"
   ]
  },
  {
   "cell_type": "markdown",
   "metadata": {},
   "source": [
    "### Active-Passive Indifference "
   ]
  },
  {
   "cell_type": "markdown",
   "metadata": {},
   "source": [
    "One particular advantage of WMD is that it doesn't matter if the question is in the active or the passive voice"
   ]
  },
  {
   "cell_type": "code",
   "execution_count": 11,
   "metadata": {},
   "outputs": [
    {
     "name": "stdout",
     "output_type": "stream",
     "text": [
      "Question:\n",
      "If I want to be a lawyer, should I declare a minor during undergrad?\n",
      "\n",
      "sim = 1.0000\n",
      "Should I declare a minor during undergrad if I want to be a lawyer?\n",
      "\n",
      "sim = 0.6067\n",
      "If i want to be a lawyer, what should i major in once i get into college?\n",
      "\n",
      "sim = 0.5749\n",
      "what is the best college if you want to be a lawyer in Alabama\n",
      "\n",
      "sim = 0.5707\n",
      "How do you decide what type of lawyer you want to become?\n",
      "\n",
      "sim = 0.5665\n",
      "How do I decide what I want to minor in?\n",
      "\n",
      "sim = 0.5664\n",
      "What should I study if I want to become a lawyer?\n"
     ]
    }
   ],
   "source": [
    "sent = 'If I want to be a lawyer, should I declare a minor during undergrad?' \n",
    "query = preprocess(sent)\n",
    "sims = instance[query]  #A query is simply a \"look-up\" in the similarity class.\n",
    "#Print the query and the retrieved documents, together with their similarities.\n",
    "print('Question:')\n",
    "print(sent)\n",
    "for i in range(0,topk+1): \n",
    "    print('\\nsim = %.4f' % sims[i][1])\n",
    "    print(documents[sims[i][0]])"
   ]
  },
  {
   "cell_type": "markdown",
   "metadata": {},
   "source": [
    "The most similar question is the first example we used for demonstration purposes. Thus WMD doesn't care about the order in which words appear in the two strings."
   ]
  }
 ],
 "metadata": {
  "kernelspec": {
   "display_name": "Python 3",
   "language": "python",
   "name": "python3"
  },
  "language_info": {
   "codemirror_mode": {
    "name": "ipython",
    "version": 3
   },
   "file_extension": ".py",
   "mimetype": "text/x-python",
   "name": "python",
   "nbconvert_exporter": "python",
   "pygments_lexer": "ipython3",
   "version": "3.8.5"
  }
 },
 "nbformat": 4,
 "nbformat_minor": 1
}
